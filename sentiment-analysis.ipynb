{
 "cells": [
  {
   "cell_type": "code",
   "id": "initial_id",
   "metadata": {
    "collapsed": true,
    "ExecuteTime": {
     "end_time": "2025-02-10T07:20:08.676521Z",
     "start_time": "2025-02-10T07:20:08.602987Z"
    }
   },
   "source": [
    "import pandas as pd\n",
    "\n",
    "books = pd.read_csv(\"books_with_categories.csv\")"
   ],
   "outputs": [],
   "execution_count": 2
  },
  {
   "metadata": {
    "ExecuteTime": {
     "end_time": "2025-02-09T15:58:37.850886Z",
     "start_time": "2025-02-09T15:58:36.777367Z"
    }
   },
   "cell_type": "code",
   "source": [
    "from transformers import pipeline\n",
    "classifier = pipeline(\"text-classification\", model=\"j-hartmann/emotion-english-distilroberta-base\", top_k=None, device=0)\n",
    "classifier(\"I love this!\")"
   ],
   "id": "60193ba1e6fc4e56",
   "outputs": [
    {
     "name": "stderr",
     "output_type": "stream",
     "text": [
      "Device set to use cuda:0\n"
     ]
    },
    {
     "data": {
      "text/plain": [
       "[[{'label': 'joy', 'score': 0.9771687984466553},\n",
       "  {'label': 'surprise', 'score': 0.00852868054062128},\n",
       "  {'label': 'neutral', 'score': 0.005764591973274946},\n",
       "  {'label': 'anger', 'score': 0.004419785924255848},\n",
       "  {'label': 'sadness', 'score': 0.0020923891570419073},\n",
       "  {'label': 'disgust', 'score': 0.001611991785466671},\n",
       "  {'label': 'fear', 'score': 0.00041385178337804973}]]"
      ]
     },
     "execution_count": 4,
     "metadata": {},
     "output_type": "execute_result"
    }
   ],
   "execution_count": 4
  },
  {
   "metadata": {
    "ExecuteTime": {
     "end_time": "2025-02-09T15:59:06.660997Z",
     "start_time": "2025-02-09T15:59:06.655149Z"
    }
   },
   "cell_type": "code",
   "source": "books[\"description\"][0]",
   "id": "3054f92d47a8e9ca",
   "outputs": [
    {
     "data": {
      "text/plain": [
       "'A NOVEL THAT READERS and critics have been eagerly anticipating for over a decade, Gilead is an astonishingly imagined story of remarkable lives. John Ames is a preacher, the son of a preacher and the grandson (both maternal and paternal) of preachers. It’s 1956 in Gilead, Iowa, towards the end of the Reverend Ames’s life, and he is absorbed in recording his family’s story, a legacy for the young son he will never see grow up. Haunted by his grandfather’s presence, John tells of the rift between his grandfather and his father: the elder, an angry visionary who fought for the abolitionist cause, and his son, an ardent pacifist. He is troubled, too, by his prodigal namesake, Jack (John Ames) Boughton, his best friend’s lost son who returns to Gilead searching for forgiveness and redemption. Told in John Ames’s joyous, rambling voice that finds beauty, humour and truth in the smallest of life’s details, Gilead is a song of celebration and acceptance of the best and the worst the world has to offer. At its heart is a tale of the sacred bonds between fathers and sons, pitch-perfect in style and story, set to dazzle critics and readers alike.'"
      ]
     },
     "execution_count": 5,
     "metadata": {},
     "output_type": "execute_result"
    }
   ],
   "execution_count": 5
  },
  {
   "metadata": {
    "ExecuteTime": {
     "end_time": "2025-02-09T16:00:13.754594Z",
     "start_time": "2025-02-09T16:00:13.639575Z"
    }
   },
   "cell_type": "code",
   "source": "classifier(books[\"description\"][0])",
   "id": "7372e4510e3c8781",
   "outputs": [
    {
     "data": {
      "text/plain": [
       "[[{'label': 'fear', 'score': 0.6548413634300232},\n",
       "  {'label': 'neutral', 'score': 0.16985207796096802},\n",
       "  {'label': 'sadness', 'score': 0.11640888452529907},\n",
       "  {'label': 'surprise', 'score': 0.02070062793791294},\n",
       "  {'label': 'disgust', 'score': 0.019100705161690712},\n",
       "  {'label': 'joy', 'score': 0.015161297284066677},\n",
       "  {'label': 'anger', 'score': 0.003935146611183882}]]"
      ]
     },
     "execution_count": 6,
     "metadata": {},
     "output_type": "execute_result"
    }
   ],
   "execution_count": 6
  },
  {
   "metadata": {
    "ExecuteTime": {
     "end_time": "2025-02-09T16:01:33.179971Z",
     "start_time": "2025-02-09T16:01:32.967336Z"
    }
   },
   "cell_type": "code",
   "source": "classifier(books[\"description\"][0].split(\".\"))",
   "id": "fef04d0eb8f56f50",
   "outputs": [
    {
     "data": {
      "text/plain": [
       "[[{'label': 'surprise', 'score': 0.7296026945114136},\n",
       "  {'label': 'neutral', 'score': 0.1403856873512268},\n",
       "  {'label': 'fear', 'score': 0.06816219538450241},\n",
       "  {'label': 'joy', 'score': 0.04794241115450859},\n",
       "  {'label': 'anger', 'score': 0.009156348183751106},\n",
       "  {'label': 'disgust', 'score': 0.00262847519479692},\n",
       "  {'label': 'sadness', 'score': 0.0021221605129539967}],\n",
       " [{'label': 'neutral', 'score': 0.44937071204185486},\n",
       "  {'label': 'disgust', 'score': 0.2735914885997772},\n",
       "  {'label': 'joy', 'score': 0.10908304899930954},\n",
       "  {'label': 'sadness', 'score': 0.09362724423408508},\n",
       "  {'label': 'anger', 'score': 0.040478333830833435},\n",
       "  {'label': 'surprise', 'score': 0.02697017975151539},\n",
       "  {'label': 'fear', 'score': 0.006879060063511133}],\n",
       " [{'label': 'neutral', 'score': 0.6462162137031555},\n",
       "  {'label': 'sadness', 'score': 0.2427332103252411},\n",
       "  {'label': 'disgust', 'score': 0.04342261329293251},\n",
       "  {'label': 'surprise', 'score': 0.028300540521740913},\n",
       "  {'label': 'joy', 'score': 0.014211442321538925},\n",
       "  {'label': 'fear', 'score': 0.014084079302847385},\n",
       "  {'label': 'anger', 'score': 0.01103188470005989}],\n",
       " [{'label': 'fear', 'score': 0.928167998790741},\n",
       "  {'label': 'anger', 'score': 0.03219102695584297},\n",
       "  {'label': 'neutral', 'score': 0.012808729894459248},\n",
       "  {'label': 'sadness', 'score': 0.008756889030337334},\n",
       "  {'label': 'surprise', 'score': 0.008597911335527897},\n",
       "  {'label': 'disgust', 'score': 0.008431846275925636},\n",
       "  {'label': 'joy', 'score': 0.001045582932420075}],\n",
       " [{'label': 'sadness', 'score': 0.9671575427055359},\n",
       "  {'label': 'neutral', 'score': 0.015104170888662338},\n",
       "  {'label': 'disgust', 'score': 0.006480592768639326},\n",
       "  {'label': 'fear', 'score': 0.005393994972109795},\n",
       "  {'label': 'surprise', 'score': 0.0022869433742016554},\n",
       "  {'label': 'anger', 'score': 0.0018428893527016044},\n",
       "  {'label': 'joy', 'score': 0.0017338789766654372}],\n",
       " [{'label': 'joy', 'score': 0.9327971935272217},\n",
       "  {'label': 'disgust', 'score': 0.03771771863102913},\n",
       "  {'label': 'neutral', 'score': 0.01589190773665905},\n",
       "  {'label': 'sadness', 'score': 0.006444551516324282},\n",
       "  {'label': 'anger', 'score': 0.005025018472224474},\n",
       "  {'label': 'surprise', 'score': 0.0015812073834240437},\n",
       "  {'label': 'fear', 'score': 0.0005423100665211678}],\n",
       " [{'label': 'joy', 'score': 0.6528703570365906},\n",
       "  {'label': 'neutral', 'score': 0.25427502393722534},\n",
       "  {'label': 'surprise', 'score': 0.0680830255150795},\n",
       "  {'label': 'sadness', 'score': 0.009908979758620262},\n",
       "  {'label': 'disgust', 'score': 0.006512209307402372},\n",
       "  {'label': 'anger', 'score': 0.00482131028547883},\n",
       "  {'label': 'fear', 'score': 0.0035290152300149202}],\n",
       " [{'label': 'neutral', 'score': 0.5494765639305115},\n",
       "  {'label': 'sadness', 'score': 0.1116902083158493},\n",
       "  {'label': 'disgust', 'score': 0.10400670021772385},\n",
       "  {'label': 'surprise', 'score': 0.07876556366682053},\n",
       "  {'label': 'anger', 'score': 0.0641336739063263},\n",
       "  {'label': 'fear', 'score': 0.05136282742023468},\n",
       "  {'label': 'joy', 'score': 0.040564440190792084}]]"
      ]
     },
     "execution_count": 8,
     "metadata": {},
     "output_type": "execute_result"
    }
   ],
   "execution_count": 8
  },
  {
   "metadata": {
    "ExecuteTime": {
     "end_time": "2025-02-09T16:02:24.152066Z",
     "start_time": "2025-02-09T16:02:23.959532Z"
    }
   },
   "cell_type": "code",
   "source": [
    "sentences = books[\"description\"][0].split(\".\")\n",
    "predictions = classifier(sentences)"
   ],
   "id": "cb343b11c8589042",
   "outputs": [],
   "execution_count": 9
  },
  {
   "metadata": {
    "ExecuteTime": {
     "end_time": "2025-02-09T16:02:28.650559Z",
     "start_time": "2025-02-09T16:02:28.646006Z"
    }
   },
   "cell_type": "code",
   "source": "sentences[0]",
   "id": "daebcde2bdbf4364",
   "outputs": [
    {
     "data": {
      "text/plain": [
       "'A NOVEL THAT READERS and critics have been eagerly anticipating for over a decade, Gilead is an astonishingly imagined story of remarkable lives'"
      ]
     },
     "execution_count": 10,
     "metadata": {},
     "output_type": "execute_result"
    }
   ],
   "execution_count": 10
  },
  {
   "metadata": {
    "ExecuteTime": {
     "end_time": "2025-02-09T16:02:37.331989Z",
     "start_time": "2025-02-09T16:02:37.324816Z"
    }
   },
   "cell_type": "code",
   "source": "predictions[0]",
   "id": "3a863145bfd1346b",
   "outputs": [
    {
     "data": {
      "text/plain": [
       "[{'label': 'surprise', 'score': 0.7296026945114136},\n",
       " {'label': 'neutral', 'score': 0.1403856873512268},\n",
       " {'label': 'fear', 'score': 0.06816219538450241},\n",
       " {'label': 'joy', 'score': 0.04794241115450859},\n",
       " {'label': 'anger', 'score': 0.009156348183751106},\n",
       " {'label': 'disgust', 'score': 0.00262847519479692},\n",
       " {'label': 'sadness', 'score': 0.0021221605129539967}]"
      ]
     },
     "execution_count": 11,
     "metadata": {},
     "output_type": "execute_result"
    }
   ],
   "execution_count": 11
  },
  {
   "metadata": {
    "ExecuteTime": {
     "end_time": "2025-02-09T16:02:46.244549Z",
     "start_time": "2025-02-09T16:02:46.239897Z"
    }
   },
   "cell_type": "code",
   "source": "sentences[3]",
   "id": "b40d7ddd371bbd6d",
   "outputs": [
    {
     "data": {
      "text/plain": [
       "' Haunted by his grandfather’s presence, John tells of the rift between his grandfather and his father: the elder, an angry visionary who fought for the abolitionist cause, and his son, an ardent pacifist'"
      ]
     },
     "execution_count": 12,
     "metadata": {},
     "output_type": "execute_result"
    }
   ],
   "execution_count": 12
  },
  {
   "metadata": {
    "ExecuteTime": {
     "end_time": "2025-02-09T16:02:50.473621Z",
     "start_time": "2025-02-09T16:02:50.469039Z"
    }
   },
   "cell_type": "code",
   "source": "predictions[3]",
   "id": "825363bf213a9d13",
   "outputs": [
    {
     "data": {
      "text/plain": [
       "[{'label': 'fear', 'score': 0.928167998790741},\n",
       " {'label': 'anger', 'score': 0.03219102695584297},\n",
       " {'label': 'neutral', 'score': 0.012808729894459248},\n",
       " {'label': 'sadness', 'score': 0.008756889030337334},\n",
       " {'label': 'surprise', 'score': 0.008597911335527897},\n",
       " {'label': 'disgust', 'score': 0.008431846275925636},\n",
       " {'label': 'joy', 'score': 0.001045582932420075}]"
      ]
     },
     "execution_count": 13,
     "metadata": {},
     "output_type": "execute_result"
    }
   ],
   "execution_count": 13
  },
  {
   "metadata": {
    "ExecuteTime": {
     "end_time": "2025-02-09T16:04:07.706719Z",
     "start_time": "2025-02-09T16:04:07.700155Z"
    }
   },
   "cell_type": "code",
   "source": "predictions",
   "id": "dd8a52813f115265",
   "outputs": [
    {
     "data": {
      "text/plain": [
       "[[{'label': 'surprise', 'score': 0.7296026945114136},\n",
       "  {'label': 'neutral', 'score': 0.1403856873512268},\n",
       "  {'label': 'fear', 'score': 0.06816219538450241},\n",
       "  {'label': 'joy', 'score': 0.04794241115450859},\n",
       "  {'label': 'anger', 'score': 0.009156348183751106},\n",
       "  {'label': 'disgust', 'score': 0.00262847519479692},\n",
       "  {'label': 'sadness', 'score': 0.0021221605129539967}],\n",
       " [{'label': 'neutral', 'score': 0.44937071204185486},\n",
       "  {'label': 'disgust', 'score': 0.2735914885997772},\n",
       "  {'label': 'joy', 'score': 0.10908304899930954},\n",
       "  {'label': 'sadness', 'score': 0.09362724423408508},\n",
       "  {'label': 'anger', 'score': 0.040478333830833435},\n",
       "  {'label': 'surprise', 'score': 0.02697017975151539},\n",
       "  {'label': 'fear', 'score': 0.006879060063511133}],\n",
       " [{'label': 'neutral', 'score': 0.6462162137031555},\n",
       "  {'label': 'sadness', 'score': 0.2427332103252411},\n",
       "  {'label': 'disgust', 'score': 0.04342261329293251},\n",
       "  {'label': 'surprise', 'score': 0.028300540521740913},\n",
       "  {'label': 'joy', 'score': 0.014211442321538925},\n",
       "  {'label': 'fear', 'score': 0.014084079302847385},\n",
       "  {'label': 'anger', 'score': 0.01103188470005989}],\n",
       " [{'label': 'fear', 'score': 0.928167998790741},\n",
       "  {'label': 'anger', 'score': 0.03219102695584297},\n",
       "  {'label': 'neutral', 'score': 0.012808729894459248},\n",
       "  {'label': 'sadness', 'score': 0.008756889030337334},\n",
       "  {'label': 'surprise', 'score': 0.008597911335527897},\n",
       "  {'label': 'disgust', 'score': 0.008431846275925636},\n",
       "  {'label': 'joy', 'score': 0.001045582932420075}],\n",
       " [{'label': 'sadness', 'score': 0.9671575427055359},\n",
       "  {'label': 'neutral', 'score': 0.015104170888662338},\n",
       "  {'label': 'disgust', 'score': 0.006480592768639326},\n",
       "  {'label': 'fear', 'score': 0.005393994972109795},\n",
       "  {'label': 'surprise', 'score': 0.0022869433742016554},\n",
       "  {'label': 'anger', 'score': 0.0018428893527016044},\n",
       "  {'label': 'joy', 'score': 0.0017338789766654372}],\n",
       " [{'label': 'joy', 'score': 0.9327971935272217},\n",
       "  {'label': 'disgust', 'score': 0.03771771863102913},\n",
       "  {'label': 'neutral', 'score': 0.01589190773665905},\n",
       "  {'label': 'sadness', 'score': 0.006444551516324282},\n",
       "  {'label': 'anger', 'score': 0.005025018472224474},\n",
       "  {'label': 'surprise', 'score': 0.0015812073834240437},\n",
       "  {'label': 'fear', 'score': 0.0005423100665211678}],\n",
       " [{'label': 'joy', 'score': 0.6528703570365906},\n",
       "  {'label': 'neutral', 'score': 0.25427502393722534},\n",
       "  {'label': 'surprise', 'score': 0.0680830255150795},\n",
       "  {'label': 'sadness', 'score': 0.009908979758620262},\n",
       "  {'label': 'disgust', 'score': 0.006512209307402372},\n",
       "  {'label': 'anger', 'score': 0.00482131028547883},\n",
       "  {'label': 'fear', 'score': 0.0035290152300149202}],\n",
       " [{'label': 'neutral', 'score': 0.5494765639305115},\n",
       "  {'label': 'sadness', 'score': 0.1116902083158493},\n",
       "  {'label': 'disgust', 'score': 0.10400670021772385},\n",
       "  {'label': 'surprise', 'score': 0.07876556366682053},\n",
       "  {'label': 'anger', 'score': 0.0641336739063263},\n",
       "  {'label': 'fear', 'score': 0.05136282742023468},\n",
       "  {'label': 'joy', 'score': 0.040564440190792084}]]"
      ]
     },
     "execution_count": 16,
     "metadata": {},
     "output_type": "execute_result"
    }
   ],
   "execution_count": 16
  },
  {
   "metadata": {
    "ExecuteTime": {
     "end_time": "2025-02-09T16:04:48.505003Z",
     "start_time": "2025-02-09T16:04:48.499796Z"
    }
   },
   "cell_type": "code",
   "source": "sorted(predictions[0], key=lambda x: x[\"label\"])",
   "id": "8869a12ac5c2010c",
   "outputs": [
    {
     "data": {
      "text/plain": [
       "[{'label': 'anger', 'score': 0.009156348183751106},\n",
       " {'label': 'disgust', 'score': 0.00262847519479692},\n",
       " {'label': 'fear', 'score': 0.06816219538450241},\n",
       " {'label': 'joy', 'score': 0.04794241115450859},\n",
       " {'label': 'neutral', 'score': 0.1403856873512268},\n",
       " {'label': 'sadness', 'score': 0.0021221605129539967},\n",
       " {'label': 'surprise', 'score': 0.7296026945114136}]"
      ]
     },
     "execution_count": 18,
     "metadata": {},
     "output_type": "execute_result"
    }
   ],
   "execution_count": 18
  },
  {
   "metadata": {
    "ExecuteTime": {
     "end_time": "2025-02-09T16:08:24.709796Z",
     "start_time": "2025-02-09T16:08:24.705565Z"
    }
   },
   "cell_type": "code",
   "source": [
    "import  numpy as np\n",
    "\n",
    "emotion_labels = [\"anger\", \"fear\", \"joy\", \"love\", \"sadness\", \"surprise\", \"neutral\"]\n",
    "isbn = []\n",
    "emotion_scores = {label:[] for label in emotion_labels}\n",
    "\n",
    "def calculate_max_emotion_scores(predictions):\n",
    "    per_emotion_scores = {label:[] for label in emotion_labels}\n",
    "    for prediction in predictions:\n",
    "        sorted_predictions = sorted(prediction, key=lambda x: x[\"label\"])\n",
    "        for index, label in enumerate(emotion_labels):\n",
    "            per_emotion_scores[label].append(sorted_predictions[index][\"score\"])\n",
    "    return  {label: np.max(scores) for label, scores in per_emotion_scores.items()}"
   ],
   "id": "4df79d24fa447065",
   "outputs": [],
   "execution_count": 20
  },
  {
   "metadata": {
    "ExecuteTime": {
     "end_time": "2025-02-09T16:09:53.702151Z",
     "start_time": "2025-02-09T16:09:53.310971Z"
    }
   },
   "cell_type": "code",
   "source": [
    "for i in range(10):\n",
    "    isbn.append(books[\"isbn13\"][i])\n",
    "    sentences = books[\"description\"][i].split(\".\")\n",
    "    predictions = classifier(sentences)\n",
    "    max_scores = calculate_max_emotion_scores(predictions)\n",
    "    for label in emotion_labels:\n",
    "        emotion_scores[label].append(max_scores[label])"
   ],
   "id": "853523e40c6016a9",
   "outputs": [
    {
     "name": "stderr",
     "output_type": "stream",
     "text": [
      "You seem to be using the pipelines sequentially on GPU. In order to maximize efficiency please use a dataset\n"
     ]
    }
   ],
   "execution_count": 21
  },
  {
   "metadata": {
    "ExecuteTime": {
     "end_time": "2025-02-09T16:10:13.399696Z",
     "start_time": "2025-02-09T16:10:13.394766Z"
    }
   },
   "cell_type": "code",
   "source": "emotion_scores",
   "id": "af216a3ea23f00c7",
   "outputs": [
    {
     "data": {
      "text/plain": [
       "{'anger': [0.0641336739063263,\n",
       "  0.6126185059547424,\n",
       "  0.0641336739063263,\n",
       "  0.35148391127586365,\n",
       "  0.08141247183084488,\n",
       "  0.2322249710559845,\n",
       "  0.5381842255592346,\n",
       "  0.0641336739063263,\n",
       "  0.30067017674446106,\n",
       "  0.0641336739063263],\n",
       " 'fear': [0.2735914885997772,\n",
       "  0.3482844829559326,\n",
       "  0.10400670021772385,\n",
       "  0.15072263777256012,\n",
       "  0.1844954937696457,\n",
       "  0.727174699306488,\n",
       "  0.15585491061210632,\n",
       "  0.10400670021772385,\n",
       "  0.2794813811779022,\n",
       "  0.1779276728630066],\n",
       " 'joy': [0.928167998790741,\n",
       "  0.9425278306007385,\n",
       "  0.9723208546638489,\n",
       "  0.36070623993873596,\n",
       "  0.09504325687885284,\n",
       "  0.05136282742023468,\n",
       "  0.7474286556243896,\n",
       "  0.4044959247112274,\n",
       "  0.9155241250991821,\n",
       "  0.05136282742023468],\n",
       " 'love': [0.9327971935272217,\n",
       "  0.7044215202331543,\n",
       "  0.7672368884086609,\n",
       "  0.25188079476356506,\n",
       "  0.040564440190792084,\n",
       "  0.04337584972381592,\n",
       "  0.8725654482841492,\n",
       "  0.040564440190792084,\n",
       "  0.040564440190792084,\n",
       "  0.040564440190792084],\n",
       " 'sadness': [0.6462162137031555,\n",
       "  0.887939453125,\n",
       "  0.5494765639305115,\n",
       "  0.732685387134552,\n",
       "  0.8843895196914673,\n",
       "  0.6213927268981934,\n",
       "  0.7121942639350891,\n",
       "  0.5494765639305115,\n",
       "  0.8402896523475647,\n",
       "  0.8603722453117371],\n",
       " 'surprise': [0.9671575427055359,\n",
       "  0.1116902083158493,\n",
       "  0.1116902083158493,\n",
       "  0.1116902083158493,\n",
       "  0.4758807122707367,\n",
       "  0.1116902083158493,\n",
       "  0.40800026059150696,\n",
       "  0.820281982421875,\n",
       "  0.35446029901504517,\n",
       "  0.1116902083158493],\n",
       " 'neutral': [0.7296026945114136,\n",
       "  0.2525450885295868,\n",
       "  0.07876556366682053,\n",
       "  0.07876556366682053,\n",
       "  0.07876556366682053,\n",
       "  0.27190276980400085,\n",
       "  0.07876556366682053,\n",
       "  0.23448744416236877,\n",
       "  0.13561409711837769,\n",
       "  0.07876556366682053]}"
      ]
     },
     "execution_count": 22,
     "metadata": {},
     "output_type": "execute_result"
    }
   ],
   "execution_count": 22
  },
  {
   "metadata": {
    "ExecuteTime": {
     "end_time": "2025-02-09T16:14:53.531459Z",
     "start_time": "2025-02-09T16:12:33.963031Z"
    }
   },
   "cell_type": "code",
   "source": [
    "from tqdm import tqdm\n",
    "\n",
    "emotion_labels = [\"anger\", \"fear\", \"joy\", \"love\", \"sadness\", \"surprise\", \"neutral\"]\n",
    "isbn = []\n",
    "emotion_scores = {label:[] for label in emotion_labels}\n",
    "\n",
    "for i in tqdm(range(len(books))):\n",
    "    isbn.append(books[\"isbn13\"][i])\n",
    "    sentences = books[\"description\"][i].split(\".\")\n",
    "    predictions = classifier(sentences)\n",
    "    max_scores = calculate_max_emotion_scores(predictions)\n",
    "    for label in emotion_labels:\n",
    "        emotion_scores[label].append(max_scores[label])"
   ],
   "id": "c2c86e93a8ec0bb2",
   "outputs": [
    {
     "name": "stderr",
     "output_type": "stream",
     "text": [
      "100%|██████████| 5197/5197 [02:19<00:00, 37.24it/s]\n"
     ]
    }
   ],
   "execution_count": 23
  },
  {
   "metadata": {
    "ExecuteTime": {
     "end_time": "2025-02-09T16:15:08.787353Z",
     "start_time": "2025-02-09T16:15:08.766487Z"
    }
   },
   "cell_type": "code",
   "source": [
    "emotions_df = pd.DataFrame(emotion_scores)\n",
    "emotions_df[\"isbn13\"] = isbn"
   ],
   "id": "1dc77afb11c1ee18",
   "outputs": [],
   "execution_count": 24
  },
  {
   "metadata": {
    "ExecuteTime": {
     "end_time": "2025-02-09T16:15:09.841139Z",
     "start_time": "2025-02-09T16:15:09.822332Z"
    }
   },
   "cell_type": "code",
   "source": "emotions_df",
   "id": "e7c868497d927d43",
   "outputs": [
    {
     "data": {
      "text/plain": [
       "         anger      fear       joy      love   sadness  surprise   neutral  \\\n",
       "0     0.064134  0.273591  0.928168  0.932797  0.646216  0.967158  0.729603   \n",
       "1     0.612619  0.348284  0.942528  0.704422  0.887939  0.111690  0.252545   \n",
       "2     0.064134  0.104007  0.972321  0.767237  0.549477  0.111690  0.078766   \n",
       "3     0.351484  0.150723  0.360706  0.251881  0.732685  0.111690  0.078766   \n",
       "4     0.081412  0.184495  0.095043  0.040564  0.884390  0.475881  0.078766   \n",
       "...        ...       ...       ...       ...       ...       ...       ...   \n",
       "5192  0.148208  0.030643  0.919165  0.255170  0.853722  0.980877  0.030656   \n",
       "5193  0.064134  0.114383  0.051363  0.400263  0.883199  0.111690  0.227765   \n",
       "5194  0.009997  0.009929  0.339218  0.947779  0.375755  0.066685  0.057625   \n",
       "5195  0.064134  0.104007  0.459269  0.759455  0.951104  0.368111  0.078766   \n",
       "5196  0.064134  0.104007  0.051363  0.958549  0.915193  0.111690  0.078766   \n",
       "\n",
       "             isbn13  \n",
       "0     9780002005883  \n",
       "1     9780002261982  \n",
       "2     9780006178736  \n",
       "3     9780006280897  \n",
       "4     9780006280934  \n",
       "...             ...  \n",
       "5192  9788172235222  \n",
       "5193  9788173031014  \n",
       "5194  9788179921623  \n",
       "5195  9788185300535  \n",
       "5196  9789027712059  \n",
       "\n",
       "[5197 rows x 8 columns]"
      ],
      "text/html": [
       "<div>\n",
       "<style scoped>\n",
       "    .dataframe tbody tr th:only-of-type {\n",
       "        vertical-align: middle;\n",
       "    }\n",
       "\n",
       "    .dataframe tbody tr th {\n",
       "        vertical-align: top;\n",
       "    }\n",
       "\n",
       "    .dataframe thead th {\n",
       "        text-align: right;\n",
       "    }\n",
       "</style>\n",
       "<table border=\"1\" class=\"dataframe\">\n",
       "  <thead>\n",
       "    <tr style=\"text-align: right;\">\n",
       "      <th></th>\n",
       "      <th>anger</th>\n",
       "      <th>fear</th>\n",
       "      <th>joy</th>\n",
       "      <th>love</th>\n",
       "      <th>sadness</th>\n",
       "      <th>surprise</th>\n",
       "      <th>neutral</th>\n",
       "      <th>isbn13</th>\n",
       "    </tr>\n",
       "  </thead>\n",
       "  <tbody>\n",
       "    <tr>\n",
       "      <th>0</th>\n",
       "      <td>0.064134</td>\n",
       "      <td>0.273591</td>\n",
       "      <td>0.928168</td>\n",
       "      <td>0.932797</td>\n",
       "      <td>0.646216</td>\n",
       "      <td>0.967158</td>\n",
       "      <td>0.729603</td>\n",
       "      <td>9780002005883</td>\n",
       "    </tr>\n",
       "    <tr>\n",
       "      <th>1</th>\n",
       "      <td>0.612619</td>\n",
       "      <td>0.348284</td>\n",
       "      <td>0.942528</td>\n",
       "      <td>0.704422</td>\n",
       "      <td>0.887939</td>\n",
       "      <td>0.111690</td>\n",
       "      <td>0.252545</td>\n",
       "      <td>9780002261982</td>\n",
       "    </tr>\n",
       "    <tr>\n",
       "      <th>2</th>\n",
       "      <td>0.064134</td>\n",
       "      <td>0.104007</td>\n",
       "      <td>0.972321</td>\n",
       "      <td>0.767237</td>\n",
       "      <td>0.549477</td>\n",
       "      <td>0.111690</td>\n",
       "      <td>0.078766</td>\n",
       "      <td>9780006178736</td>\n",
       "    </tr>\n",
       "    <tr>\n",
       "      <th>3</th>\n",
       "      <td>0.351484</td>\n",
       "      <td>0.150723</td>\n",
       "      <td>0.360706</td>\n",
       "      <td>0.251881</td>\n",
       "      <td>0.732685</td>\n",
       "      <td>0.111690</td>\n",
       "      <td>0.078766</td>\n",
       "      <td>9780006280897</td>\n",
       "    </tr>\n",
       "    <tr>\n",
       "      <th>4</th>\n",
       "      <td>0.081412</td>\n",
       "      <td>0.184495</td>\n",
       "      <td>0.095043</td>\n",
       "      <td>0.040564</td>\n",
       "      <td>0.884390</td>\n",
       "      <td>0.475881</td>\n",
       "      <td>0.078766</td>\n",
       "      <td>9780006280934</td>\n",
       "    </tr>\n",
       "    <tr>\n",
       "      <th>...</th>\n",
       "      <td>...</td>\n",
       "      <td>...</td>\n",
       "      <td>...</td>\n",
       "      <td>...</td>\n",
       "      <td>...</td>\n",
       "      <td>...</td>\n",
       "      <td>...</td>\n",
       "      <td>...</td>\n",
       "    </tr>\n",
       "    <tr>\n",
       "      <th>5192</th>\n",
       "      <td>0.148208</td>\n",
       "      <td>0.030643</td>\n",
       "      <td>0.919165</td>\n",
       "      <td>0.255170</td>\n",
       "      <td>0.853722</td>\n",
       "      <td>0.980877</td>\n",
       "      <td>0.030656</td>\n",
       "      <td>9788172235222</td>\n",
       "    </tr>\n",
       "    <tr>\n",
       "      <th>5193</th>\n",
       "      <td>0.064134</td>\n",
       "      <td>0.114383</td>\n",
       "      <td>0.051363</td>\n",
       "      <td>0.400263</td>\n",
       "      <td>0.883199</td>\n",
       "      <td>0.111690</td>\n",
       "      <td>0.227765</td>\n",
       "      <td>9788173031014</td>\n",
       "    </tr>\n",
       "    <tr>\n",
       "      <th>5194</th>\n",
       "      <td>0.009997</td>\n",
       "      <td>0.009929</td>\n",
       "      <td>0.339218</td>\n",
       "      <td>0.947779</td>\n",
       "      <td>0.375755</td>\n",
       "      <td>0.066685</td>\n",
       "      <td>0.057625</td>\n",
       "      <td>9788179921623</td>\n",
       "    </tr>\n",
       "    <tr>\n",
       "      <th>5195</th>\n",
       "      <td>0.064134</td>\n",
       "      <td>0.104007</td>\n",
       "      <td>0.459269</td>\n",
       "      <td>0.759455</td>\n",
       "      <td>0.951104</td>\n",
       "      <td>0.368111</td>\n",
       "      <td>0.078766</td>\n",
       "      <td>9788185300535</td>\n",
       "    </tr>\n",
       "    <tr>\n",
       "      <th>5196</th>\n",
       "      <td>0.064134</td>\n",
       "      <td>0.104007</td>\n",
       "      <td>0.051363</td>\n",
       "      <td>0.958549</td>\n",
       "      <td>0.915193</td>\n",
       "      <td>0.111690</td>\n",
       "      <td>0.078766</td>\n",
       "      <td>9789027712059</td>\n",
       "    </tr>\n",
       "  </tbody>\n",
       "</table>\n",
       "<p>5197 rows × 8 columns</p>\n",
       "</div>"
      ]
     },
     "execution_count": 25,
     "metadata": {},
     "output_type": "execute_result"
    }
   ],
   "execution_count": 25
  },
  {
   "metadata": {
    "ExecuteTime": {
     "end_time": "2025-02-09T16:15:11.756888Z",
     "start_time": "2025-02-09T16:15:11.746392Z"
    }
   },
   "cell_type": "code",
   "source": "books = pd.merge(books, emotions_df, on=\"isbn13\")",
   "id": "7d77fbb83668b518",
   "outputs": [],
   "execution_count": 26
  },
  {
   "metadata": {
    "ExecuteTime": {
     "end_time": "2025-02-09T16:15:14.914344Z",
     "start_time": "2025-02-09T16:15:14.895195Z"
    }
   },
   "cell_type": "code",
   "source": "books",
   "id": "9e66db454d049b72",
   "outputs": [
    {
     "data": {
      "text/plain": [
       "             isbn13      isbn10  \\\n",
       "0     9780002005883  0002005883   \n",
       "1     9780002261982  0002261987   \n",
       "2     9780006178736  0006178731   \n",
       "3     9780006280897  0006280897   \n",
       "4     9780006280934  0006280935   \n",
       "...             ...         ...   \n",
       "5192  9788172235222  8172235224   \n",
       "5193  9788173031014  8173031010   \n",
       "5194  9788179921623  817992162X   \n",
       "5195  9788185300535  8185300534   \n",
       "5196  9789027712059  9027712050   \n",
       "\n",
       "                                                  title  \\\n",
       "0                                                Gilead   \n",
       "1                                          Spider's Web   \n",
       "2                                        Rage of angels   \n",
       "3                                        The Four Loves   \n",
       "4                                   The Problem of Pain   \n",
       "...                                                 ...   \n",
       "5192                                  Mistaken Identity   \n",
       "5193                                Journey to the East   \n",
       "5194  The Monk Who Sold His Ferrari: A Fable About F...   \n",
       "5195                                          I Am that   \n",
       "5196                           The Berlin Phenomenology   \n",
       "\n",
       "                                           authors  \\\n",
       "0                               Marilynne Robinson   \n",
       "1                  Charles Osborne;Agatha Christie   \n",
       "2                                   Sidney Sheldon   \n",
       "3                              Clive Staples Lewis   \n",
       "4                              Clive Staples Lewis   \n",
       "...                                            ...   \n",
       "5192                              Nayantara Sahgal   \n",
       "5193                                 Hermann Hesse   \n",
       "5194                                  Robin Sharma   \n",
       "5195  Sri Nisargadatta Maharaj;Sudhakar S. Dikshit   \n",
       "5196                 Georg Wilhelm Friedrich Hegel   \n",
       "\n",
       "                         categories  \\\n",
       "0                           Fiction   \n",
       "1     Detective and mystery stories   \n",
       "2                           Fiction   \n",
       "3                    Christian life   \n",
       "4                    Christian life   \n",
       "...                             ...   \n",
       "5192        Indic fiction (English)   \n",
       "5193              Adventure stories   \n",
       "5194               Health & Fitness   \n",
       "5195                     Philosophy   \n",
       "5196                        History   \n",
       "\n",
       "                                              thumbnail  \\\n",
       "0     http://books.google.com/books/content?id=KQZCP...   \n",
       "1     http://books.google.com/books/content?id=gA5GP...   \n",
       "2     http://books.google.com/books/content?id=FKo2T...   \n",
       "3     http://books.google.com/books/content?id=XhQ5X...   \n",
       "4     http://books.google.com/books/content?id=Kk-uV...   \n",
       "...                                                 ...   \n",
       "5192  http://books.google.com/books/content?id=q-tKP...   \n",
       "5193  http://books.google.com/books/content?id=rq6JP...   \n",
       "5194  http://books.google.com/books/content?id=c_7mf...   \n",
       "5195  http://books.google.com/books/content?id=Fv_JP...   \n",
       "5196  http://books.google.com/books/content?id=Vy7Sk...   \n",
       "\n",
       "                                            description  published_year  \\\n",
       "0     A NOVEL THAT READERS and critics have been eag...          2004.0   \n",
       "1     A new 'Christie for Christmas' -- a full-lengt...          2000.0   \n",
       "2     A memorable, mesmerizing heroine Jennifer -- b...          1993.0   \n",
       "3     Lewis' work on the nature of love divides love...          2002.0   \n",
       "4     \"In The Problem of Pain, C.S. Lewis, one of th...          2002.0   \n",
       "...                                                 ...             ...   \n",
       "5192  On A Train Journey Home To North India After L...          2003.0   \n",
       "5193  This book tells the tale of a man who goes on ...          2002.0   \n",
       "5194  Wisdom to Create a Life of Passion, Purpose, a...          2003.0   \n",
       "5195  This collection of the timeless teachings of o...          1999.0   \n",
       "5196  Since the three volume edition ofHegel's Philo...          1981.0   \n",
       "\n",
       "      average_rating  num_pages  ...  \\\n",
       "0               3.85      247.0  ...   \n",
       "1               3.83      241.0  ...   \n",
       "2               3.93      512.0  ...   \n",
       "3               4.15      170.0  ...   \n",
       "4               4.09      176.0  ...   \n",
       "...              ...        ...  ...   \n",
       "5192            2.93      324.0  ...   \n",
       "5193            3.70      175.0  ...   \n",
       "5194            3.82      198.0  ...   \n",
       "5195            4.51      531.0  ...   \n",
       "5196            0.00      210.0  ...   \n",
       "\n",
       "                                     title_and_subtitle  \\\n",
       "0                                                Gilead   \n",
       "1                                 Spider's Web: A Novel   \n",
       "2                                        Rage of angels   \n",
       "3                                        The Four Loves   \n",
       "4                                   The Problem of Pain   \n",
       "...                                                 ...   \n",
       "5192                                  Mistaken Identity   \n",
       "5193                                Journey to the East   \n",
       "5194  The Monk Who Sold His Ferrari: A Fable About F...   \n",
       "5195     I Am that: Talks with Sri Nisargadatta Maharaj   \n",
       "5196                           The Berlin Phenomenology   \n",
       "\n",
       "                                     tagged_description simple_categories  \\\n",
       "0     9780002005883 A NOVEL THAT READERS and critics...           Fiction   \n",
       "1     9780002261982 A new 'Christie for Christmas' -...           Fiction   \n",
       "2     9780006178736 A memorable, mesmerizing heroine...           Fiction   \n",
       "3     9780006280897 Lewis' work on the nature of lov...        Nonfiction   \n",
       "4     9780006280934 \"In The Problem of Pain, C.S. Le...        Nonfiction   \n",
       "...                                                 ...               ...   \n",
       "5192  9788172235222 On A Train Journey Home To North...           Fiction   \n",
       "5193  9788173031014 This book tells the tale of a ma...        Nonfiction   \n",
       "5194  9788179921623 Wisdom to Create a Life of Passi...           Fiction   \n",
       "5195  9788185300535 This collection of the timeless ...        Nonfiction   \n",
       "5196  9789027712059 Since the three volume edition o...        Nonfiction   \n",
       "\n",
       "         anger      fear       joy      love   sadness  surprise   neutral  \n",
       "0     0.064134  0.273591  0.928168  0.932797  0.646216  0.967158  0.729603  \n",
       "1     0.612619  0.348284  0.942528  0.704422  0.887939  0.111690  0.252545  \n",
       "2     0.064134  0.104007  0.972321  0.767237  0.549477  0.111690  0.078766  \n",
       "3     0.351484  0.150723  0.360706  0.251881  0.732685  0.111690  0.078766  \n",
       "4     0.081412  0.184495  0.095043  0.040564  0.884390  0.475881  0.078766  \n",
       "...        ...       ...       ...       ...       ...       ...       ...  \n",
       "5192  0.148208  0.030643  0.919165  0.255170  0.853722  0.980877  0.030656  \n",
       "5193  0.064134  0.114383  0.051363  0.400263  0.883199  0.111690  0.227765  \n",
       "5194  0.009997  0.009929  0.339218  0.947779  0.375755  0.066685  0.057625  \n",
       "5195  0.064134  0.104007  0.459269  0.759455  0.951104  0.368111  0.078766  \n",
       "5196  0.064134  0.104007  0.051363  0.958549  0.915193  0.111690  0.078766  \n",
       "\n",
       "[5197 rows x 21 columns]"
      ],
      "text/html": [
       "<div>\n",
       "<style scoped>\n",
       "    .dataframe tbody tr th:only-of-type {\n",
       "        vertical-align: middle;\n",
       "    }\n",
       "\n",
       "    .dataframe tbody tr th {\n",
       "        vertical-align: top;\n",
       "    }\n",
       "\n",
       "    .dataframe thead th {\n",
       "        text-align: right;\n",
       "    }\n",
       "</style>\n",
       "<table border=\"1\" class=\"dataframe\">\n",
       "  <thead>\n",
       "    <tr style=\"text-align: right;\">\n",
       "      <th></th>\n",
       "      <th>isbn13</th>\n",
       "      <th>isbn10</th>\n",
       "      <th>title</th>\n",
       "      <th>authors</th>\n",
       "      <th>categories</th>\n",
       "      <th>thumbnail</th>\n",
       "      <th>description</th>\n",
       "      <th>published_year</th>\n",
       "      <th>average_rating</th>\n",
       "      <th>num_pages</th>\n",
       "      <th>...</th>\n",
       "      <th>title_and_subtitle</th>\n",
       "      <th>tagged_description</th>\n",
       "      <th>simple_categories</th>\n",
       "      <th>anger</th>\n",
       "      <th>fear</th>\n",
       "      <th>joy</th>\n",
       "      <th>love</th>\n",
       "      <th>sadness</th>\n",
       "      <th>surprise</th>\n",
       "      <th>neutral</th>\n",
       "    </tr>\n",
       "  </thead>\n",
       "  <tbody>\n",
       "    <tr>\n",
       "      <th>0</th>\n",
       "      <td>9780002005883</td>\n",
       "      <td>0002005883</td>\n",
       "      <td>Gilead</td>\n",
       "      <td>Marilynne Robinson</td>\n",
       "      <td>Fiction</td>\n",
       "      <td>http://books.google.com/books/content?id=KQZCP...</td>\n",
       "      <td>A NOVEL THAT READERS and critics have been eag...</td>\n",
       "      <td>2004.0</td>\n",
       "      <td>3.85</td>\n",
       "      <td>247.0</td>\n",
       "      <td>...</td>\n",
       "      <td>Gilead</td>\n",
       "      <td>9780002005883 A NOVEL THAT READERS and critics...</td>\n",
       "      <td>Fiction</td>\n",
       "      <td>0.064134</td>\n",
       "      <td>0.273591</td>\n",
       "      <td>0.928168</td>\n",
       "      <td>0.932797</td>\n",
       "      <td>0.646216</td>\n",
       "      <td>0.967158</td>\n",
       "      <td>0.729603</td>\n",
       "    </tr>\n",
       "    <tr>\n",
       "      <th>1</th>\n",
       "      <td>9780002261982</td>\n",
       "      <td>0002261987</td>\n",
       "      <td>Spider's Web</td>\n",
       "      <td>Charles Osborne;Agatha Christie</td>\n",
       "      <td>Detective and mystery stories</td>\n",
       "      <td>http://books.google.com/books/content?id=gA5GP...</td>\n",
       "      <td>A new 'Christie for Christmas' -- a full-lengt...</td>\n",
       "      <td>2000.0</td>\n",
       "      <td>3.83</td>\n",
       "      <td>241.0</td>\n",
       "      <td>...</td>\n",
       "      <td>Spider's Web: A Novel</td>\n",
       "      <td>9780002261982 A new 'Christie for Christmas' -...</td>\n",
       "      <td>Fiction</td>\n",
       "      <td>0.612619</td>\n",
       "      <td>0.348284</td>\n",
       "      <td>0.942528</td>\n",
       "      <td>0.704422</td>\n",
       "      <td>0.887939</td>\n",
       "      <td>0.111690</td>\n",
       "      <td>0.252545</td>\n",
       "    </tr>\n",
       "    <tr>\n",
       "      <th>2</th>\n",
       "      <td>9780006178736</td>\n",
       "      <td>0006178731</td>\n",
       "      <td>Rage of angels</td>\n",
       "      <td>Sidney Sheldon</td>\n",
       "      <td>Fiction</td>\n",
       "      <td>http://books.google.com/books/content?id=FKo2T...</td>\n",
       "      <td>A memorable, mesmerizing heroine Jennifer -- b...</td>\n",
       "      <td>1993.0</td>\n",
       "      <td>3.93</td>\n",
       "      <td>512.0</td>\n",
       "      <td>...</td>\n",
       "      <td>Rage of angels</td>\n",
       "      <td>9780006178736 A memorable, mesmerizing heroine...</td>\n",
       "      <td>Fiction</td>\n",
       "      <td>0.064134</td>\n",
       "      <td>0.104007</td>\n",
       "      <td>0.972321</td>\n",
       "      <td>0.767237</td>\n",
       "      <td>0.549477</td>\n",
       "      <td>0.111690</td>\n",
       "      <td>0.078766</td>\n",
       "    </tr>\n",
       "    <tr>\n",
       "      <th>3</th>\n",
       "      <td>9780006280897</td>\n",
       "      <td>0006280897</td>\n",
       "      <td>The Four Loves</td>\n",
       "      <td>Clive Staples Lewis</td>\n",
       "      <td>Christian life</td>\n",
       "      <td>http://books.google.com/books/content?id=XhQ5X...</td>\n",
       "      <td>Lewis' work on the nature of love divides love...</td>\n",
       "      <td>2002.0</td>\n",
       "      <td>4.15</td>\n",
       "      <td>170.0</td>\n",
       "      <td>...</td>\n",
       "      <td>The Four Loves</td>\n",
       "      <td>9780006280897 Lewis' work on the nature of lov...</td>\n",
       "      <td>Nonfiction</td>\n",
       "      <td>0.351484</td>\n",
       "      <td>0.150723</td>\n",
       "      <td>0.360706</td>\n",
       "      <td>0.251881</td>\n",
       "      <td>0.732685</td>\n",
       "      <td>0.111690</td>\n",
       "      <td>0.078766</td>\n",
       "    </tr>\n",
       "    <tr>\n",
       "      <th>4</th>\n",
       "      <td>9780006280934</td>\n",
       "      <td>0006280935</td>\n",
       "      <td>The Problem of Pain</td>\n",
       "      <td>Clive Staples Lewis</td>\n",
       "      <td>Christian life</td>\n",
       "      <td>http://books.google.com/books/content?id=Kk-uV...</td>\n",
       "      <td>\"In The Problem of Pain, C.S. Lewis, one of th...</td>\n",
       "      <td>2002.0</td>\n",
       "      <td>4.09</td>\n",
       "      <td>176.0</td>\n",
       "      <td>...</td>\n",
       "      <td>The Problem of Pain</td>\n",
       "      <td>9780006280934 \"In The Problem of Pain, C.S. Le...</td>\n",
       "      <td>Nonfiction</td>\n",
       "      <td>0.081412</td>\n",
       "      <td>0.184495</td>\n",
       "      <td>0.095043</td>\n",
       "      <td>0.040564</td>\n",
       "      <td>0.884390</td>\n",
       "      <td>0.475881</td>\n",
       "      <td>0.078766</td>\n",
       "    </tr>\n",
       "    <tr>\n",
       "      <th>...</th>\n",
       "      <td>...</td>\n",
       "      <td>...</td>\n",
       "      <td>...</td>\n",
       "      <td>...</td>\n",
       "      <td>...</td>\n",
       "      <td>...</td>\n",
       "      <td>...</td>\n",
       "      <td>...</td>\n",
       "      <td>...</td>\n",
       "      <td>...</td>\n",
       "      <td>...</td>\n",
       "      <td>...</td>\n",
       "      <td>...</td>\n",
       "      <td>...</td>\n",
       "      <td>...</td>\n",
       "      <td>...</td>\n",
       "      <td>...</td>\n",
       "      <td>...</td>\n",
       "      <td>...</td>\n",
       "      <td>...</td>\n",
       "      <td>...</td>\n",
       "    </tr>\n",
       "    <tr>\n",
       "      <th>5192</th>\n",
       "      <td>9788172235222</td>\n",
       "      <td>8172235224</td>\n",
       "      <td>Mistaken Identity</td>\n",
       "      <td>Nayantara Sahgal</td>\n",
       "      <td>Indic fiction (English)</td>\n",
       "      <td>http://books.google.com/books/content?id=q-tKP...</td>\n",
       "      <td>On A Train Journey Home To North India After L...</td>\n",
       "      <td>2003.0</td>\n",
       "      <td>2.93</td>\n",
       "      <td>324.0</td>\n",
       "      <td>...</td>\n",
       "      <td>Mistaken Identity</td>\n",
       "      <td>9788172235222 On A Train Journey Home To North...</td>\n",
       "      <td>Fiction</td>\n",
       "      <td>0.148208</td>\n",
       "      <td>0.030643</td>\n",
       "      <td>0.919165</td>\n",
       "      <td>0.255170</td>\n",
       "      <td>0.853722</td>\n",
       "      <td>0.980877</td>\n",
       "      <td>0.030656</td>\n",
       "    </tr>\n",
       "    <tr>\n",
       "      <th>5193</th>\n",
       "      <td>9788173031014</td>\n",
       "      <td>8173031010</td>\n",
       "      <td>Journey to the East</td>\n",
       "      <td>Hermann Hesse</td>\n",
       "      <td>Adventure stories</td>\n",
       "      <td>http://books.google.com/books/content?id=rq6JP...</td>\n",
       "      <td>This book tells the tale of a man who goes on ...</td>\n",
       "      <td>2002.0</td>\n",
       "      <td>3.70</td>\n",
       "      <td>175.0</td>\n",
       "      <td>...</td>\n",
       "      <td>Journey to the East</td>\n",
       "      <td>9788173031014 This book tells the tale of a ma...</td>\n",
       "      <td>Nonfiction</td>\n",
       "      <td>0.064134</td>\n",
       "      <td>0.114383</td>\n",
       "      <td>0.051363</td>\n",
       "      <td>0.400263</td>\n",
       "      <td>0.883199</td>\n",
       "      <td>0.111690</td>\n",
       "      <td>0.227765</td>\n",
       "    </tr>\n",
       "    <tr>\n",
       "      <th>5194</th>\n",
       "      <td>9788179921623</td>\n",
       "      <td>817992162X</td>\n",
       "      <td>The Monk Who Sold His Ferrari: A Fable About F...</td>\n",
       "      <td>Robin Sharma</td>\n",
       "      <td>Health &amp; Fitness</td>\n",
       "      <td>http://books.google.com/books/content?id=c_7mf...</td>\n",
       "      <td>Wisdom to Create a Life of Passion, Purpose, a...</td>\n",
       "      <td>2003.0</td>\n",
       "      <td>3.82</td>\n",
       "      <td>198.0</td>\n",
       "      <td>...</td>\n",
       "      <td>The Monk Who Sold His Ferrari: A Fable About F...</td>\n",
       "      <td>9788179921623 Wisdom to Create a Life of Passi...</td>\n",
       "      <td>Fiction</td>\n",
       "      <td>0.009997</td>\n",
       "      <td>0.009929</td>\n",
       "      <td>0.339218</td>\n",
       "      <td>0.947779</td>\n",
       "      <td>0.375755</td>\n",
       "      <td>0.066685</td>\n",
       "      <td>0.057625</td>\n",
       "    </tr>\n",
       "    <tr>\n",
       "      <th>5195</th>\n",
       "      <td>9788185300535</td>\n",
       "      <td>8185300534</td>\n",
       "      <td>I Am that</td>\n",
       "      <td>Sri Nisargadatta Maharaj;Sudhakar S. Dikshit</td>\n",
       "      <td>Philosophy</td>\n",
       "      <td>http://books.google.com/books/content?id=Fv_JP...</td>\n",
       "      <td>This collection of the timeless teachings of o...</td>\n",
       "      <td>1999.0</td>\n",
       "      <td>4.51</td>\n",
       "      <td>531.0</td>\n",
       "      <td>...</td>\n",
       "      <td>I Am that: Talks with Sri Nisargadatta Maharaj</td>\n",
       "      <td>9788185300535 This collection of the timeless ...</td>\n",
       "      <td>Nonfiction</td>\n",
       "      <td>0.064134</td>\n",
       "      <td>0.104007</td>\n",
       "      <td>0.459269</td>\n",
       "      <td>0.759455</td>\n",
       "      <td>0.951104</td>\n",
       "      <td>0.368111</td>\n",
       "      <td>0.078766</td>\n",
       "    </tr>\n",
       "    <tr>\n",
       "      <th>5196</th>\n",
       "      <td>9789027712059</td>\n",
       "      <td>9027712050</td>\n",
       "      <td>The Berlin Phenomenology</td>\n",
       "      <td>Georg Wilhelm Friedrich Hegel</td>\n",
       "      <td>History</td>\n",
       "      <td>http://books.google.com/books/content?id=Vy7Sk...</td>\n",
       "      <td>Since the three volume edition ofHegel's Philo...</td>\n",
       "      <td>1981.0</td>\n",
       "      <td>0.00</td>\n",
       "      <td>210.0</td>\n",
       "      <td>...</td>\n",
       "      <td>The Berlin Phenomenology</td>\n",
       "      <td>9789027712059 Since the three volume edition o...</td>\n",
       "      <td>Nonfiction</td>\n",
       "      <td>0.064134</td>\n",
       "      <td>0.104007</td>\n",
       "      <td>0.051363</td>\n",
       "      <td>0.958549</td>\n",
       "      <td>0.915193</td>\n",
       "      <td>0.111690</td>\n",
       "      <td>0.078766</td>\n",
       "    </tr>\n",
       "  </tbody>\n",
       "</table>\n",
       "<p>5197 rows × 21 columns</p>\n",
       "</div>"
      ]
     },
     "execution_count": 27,
     "metadata": {},
     "output_type": "execute_result"
    }
   ],
   "execution_count": 27
  },
  {
   "metadata": {
    "ExecuteTime": {
     "end_time": "2025-02-09T16:15:37.716213Z",
     "start_time": "2025-02-09T16:15:37.587528Z"
    }
   },
   "cell_type": "code",
   "source": "books.to_csv(\"books_with_emotions.csv\", index=False)",
   "id": "2ab52a8a90b797b3",
   "outputs": [],
   "execution_count": 28
  }
 ],
 "metadata": {
  "kernelspec": {
   "display_name": "Python 3",
   "language": "python",
   "name": "python3"
  },
  "language_info": {
   "codemirror_mode": {
    "name": "ipython",
    "version": 2
   },
   "file_extension": ".py",
   "mimetype": "text/x-python",
   "name": "python",
   "nbconvert_exporter": "python",
   "pygments_lexer": "ipython2",
   "version": "2.7.6"
  }
 },
 "nbformat": 4,
 "nbformat_minor": 5
}
